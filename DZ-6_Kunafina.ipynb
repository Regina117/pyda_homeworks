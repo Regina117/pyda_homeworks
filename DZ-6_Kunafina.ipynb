{
 "cells": [
  {
   "cell_type": "markdown",
   "metadata": {},
   "source": [
    "Переведите содержимое файла purchase_log.txt в словарь purchases вида:\n",
    "{‘1840e0b9d4’: ‘Продукты’, …}"
   ]
  },
  {
   "cell_type": "markdown",
   "metadata": {},
   "source": [
    "Для каждого user_id в файле visit_log.csv определите третий столбец с категорией покупки (если покупка была, сам файл visit_log.csv изменять не надо). Запишите в файл funnel.csv визиты из файла visit_log.csv, в которых были покупки с указанием категории. Учтите условия на данные: содержимое purchase_log.txt помещается в оперативную память компьютера содержимое visit_log.csv - нет; используйте только построчную обработку этого файла"
   ]
  },
  {
   "cell_type": "code",
   "execution_count": 175,
   "metadata": {},
   "outputs": [
    {
     "name": "stdout",
     "output_type": "stream",
     "text": [
      "{'user_id': 'category'}\n",
      "{'1840e0b9d4': 'Продукты'}\n",
      "{'4e4f90fcfb': 'Электроника'}\n",
      "{'afea8d72fc': 'Электроника'}\n",
      "{'373a6055fe': 'Бытовая техника'}\n",
      "{'9b2ab046f3': 'Электроника'}\n",
      "{'9f39d307c3': 'Электроника'}\n",
      "{'44edeffc91': 'Продукты'}\n",
      "{'704474fa2d': 'Продукты'}\n",
      "{'1de31be403': 'Бытовая техника'}\n",
      "{'b71f36a5e4': 'Продукты'}\n",
      "<_io.TextIOWrapper name='funnel.csv' mode='w' encoding='utf-8'>\n"
     ]
    }
   ],
   "source": [
    "import json\n",
    "purchase = {}\n",
    "i = 0\n",
    "with open('purchase_log.txt', 'r', encoding ='utf-8') as f:    \n",
    "    with open('purchases.csv', 'w', encoding ='utf-8') as f2write:\n",
    "        for line in f:\n",
    "            line = line.strip()\n",
    "            purchase = json.loads(line)\n",
    "            purchase = {purchase['user_id']: purchase['category']}\n",
    "            print(purchase)\n",
    "            if 'category' in line:\n",
    "                f2write.write(line)\n",
    "            i += 1\n",
    "            if i > 10:\n",
    "                break\n",
    "\n",
    "with open('visit_log.csv', 'r', encoding ='utf-8') as f1:\n",
    "    with open('funnel.csv', 'w', encoding ='utf-8') as f3:\n",
    "        for row in f1:\n",
    "            vizits = row.strip().split(',')\n",
    "            if vizits[0] in new_purchase.keys():\n",
    "                vizits.append(new_purchase[vizits[0]])\n",
    "                add_line=','.join(vizits)\n",
    "            elif vizits[0] == 'user_id':\n",
    "                add_line=','.join(vizits)\n",
    "            else:\n",
    "                f3.write(add_line.join(str(visits.append(category))) + '\\n')\n",
    "print(f3)          \n",
    "     "
   ]
  },
  {
   "cell_type": "code",
   "execution_count": null,
   "metadata": {},
   "outputs": [],
   "source": []
  }
 ],
 "metadata": {
  "kernelspec": {
   "display_name": "Python 3",
   "language": "python",
   "name": "python3"
  },
  "language_info": {
   "codemirror_mode": {
    "name": "ipython",
    "version": 3
   },
   "file_extension": ".py",
   "mimetype": "text/x-python",
   "name": "python",
   "nbconvert_exporter": "python",
   "pygments_lexer": "ipython3",
   "version": "3.7.6"
  }
 },
 "nbformat": 4,
 "nbformat_minor": 4
}
