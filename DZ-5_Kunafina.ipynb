{
 "cells": [
  {
   "cell_type": "markdown",
   "metadata": {},
   "source": [
    "Вам нужно помочь секретарю автоматизировать работу. Для этого нужно написать программу, которая будет на основе хранимых данных исполнять пользовательские команды.\n",
    "\n",
    "Исходные данные имеют следующую структуру:"
   ]
  },
  {
   "cell_type": "code",
   "execution_count": 1,
   "metadata": {},
   "outputs": [
    {
     "name": "stdout",
     "output_type": "stream",
     "text": [
      "Введите номер документа:11-2\n",
      "Геннадий Покемонов\n"
     ]
    }
   ],
   "source": [
    "documents = [\n",
    "{'type': 'passport', 'number': '2207 876234', 'name': 'Василий Гупкин'},\n",
    "{'type': 'invoice', 'number': '11-2', 'name': 'Геннадий Покемонов'},\n",
    "{'type': 'insurance', 'number': '10006', 'name': 'Аристарх Павлов'}\n",
    "]#перечень всех документов\n",
    "\n",
    "def p():       \n",
    "    user_input = input(\"Введите номер документа:\")\n",
    "    for document in documents:\n",
    "        if 'number' in document.keys() and document['number'] == user_input:\n",
    "            print(document[\"name\"])\n",
    "            found = True      \n",
    "    if not found:\n",
    "        print(\"Документ не найден\") \n",
    "p()\n",
    "    "
   ]
  },
  {
   "cell_type": "markdown",
   "metadata": {},
   "source": [
    "Пункт 2. Пользователь по команде “s” может по номеру документа узнать на какой полке он хранится"
   ]
  },
  {
   "cell_type": "code",
   "execution_count": 2,
   "metadata": {},
   "outputs": [
    {
     "name": "stdout",
     "output_type": "stream",
     "text": [
      "Введите номер документа:10006\n",
      "2\n"
     ]
    }
   ],
   "source": [
    "documents = [\n",
    "{'type': 'passport', 'number': '2207 876234', 'name': 'Василий Гупкин'},\n",
    "{'type': 'invoice', 'number': '11-2', 'name': 'Геннадий Покемонов'},\n",
    "{'type': 'insurance', 'number': '10006', 'name': 'Аристарх Павлов'}\n",
    "]#перечень всех документов\n",
    "\n",
    "directories = {\n",
    "'1': ['2207 876234', '11-2'],\n",
    "'2': ['10006'],\n",
    "'3': []\n",
    "}  \n",
    " #перечень полок, на которых хранятся документы (если документ есть в documents, то он обязательно должен быть и в directories)\n",
    "def s(user_input):       \n",
    "    for directorie in directories:\n",
    "        if user_input in directories[directorie]:\n",
    "            return directorie \n",
    "    return \"Документ не найден\"\n",
    "user_input = input(\"Введите номер документа:\")\n",
    "print(s(user_input))"
   ]
  },
  {
   "cell_type": "markdown",
   "metadata": {},
   "source": [
    "Пункт 3. Пользователь по команде “l” может увидеть полную информацию по всем документам"
   ]
  },
  {
   "cell_type": "code",
   "execution_count": 1,
   "metadata": {},
   "outputs": [
    {
     "name": "stdout",
     "output_type": "stream",
     "text": [
      "№:  2207 876234 тип:  passport владелец:  Василий Гупкин полка хранения: 1\n",
      "№:  11-2 тип:  invoice владелец:  Геннадий Покемонов полка хранения: 1\n",
      "№:  10006 тип:  insurance владелец:  Аристарх Павлов полка хранения: 2\n",
      "{'type': 'passport', 'number': '2207 876234', 'name': 'Василий Гупкин', 'directory': '1'}\n",
      "{'type': 'invoice', 'number': '11-2', 'name': 'Геннадий Покемонов', 'directory': '1'}\n",
      "{'type': 'insurance', 'number': '10006', 'name': 'Аристарх Павлов', 'directory': '2'}\n"
     ]
    }
   ],
   "source": [
    "documents = [\n",
    "{'type': 'passport', 'number': '2207 876234', 'name': 'Василий Гупкин'},\n",
    "{'type': 'invoice', 'number': '11-2', 'name': 'Геннадий Покемонов'},\n",
    "{'type': 'insurance', 'number': '10006', 'name': 'Аристарх Павлов'}\n",
    "]\n",
    "directories = {\n",
    "'1': ['2207 876234', '11-2'],\n",
    "'2': ['10006'],\n",
    "'3': []\n",
    "}\n",
    "\n",
    "def l():       \n",
    "    for document in documents:\n",
    "        doc_num = document['number']\n",
    "        doc_type = document['type']\n",
    "        doc_name = document['name']\n",
    "        for key, value in directories.items():\n",
    "            if document['number'] in value:\n",
    "                x = key\n",
    "        print(\"№: \",  doc_num,   \"тип: \",  doc_type, 'владелец: ', doc_name,  \"полка хранения:\", x)\n",
    "l()     \n",
    "        \n",
    "\n",
    "def l():       \n",
    "    for document in documents:\n",
    "        dir = list(filter(lambda e: document['number'] in e[1], directories.items()))[0]\n",
    "        document['directory'] = dir[0]\n",
    "        print(document)\n",
    "l()\n"
   ]
  },
  {
   "cell_type": "markdown",
   "metadata": {},
   "source": [
    "Пункт 4. Пользователь по команде “as” может добавить новую полку"
   ]
  },
  {
   "cell_type": "code",
   "execution_count": 1,
   "metadata": {},
   "outputs": [
    {
     "name": "stdout",
     "output_type": "stream",
     "text": [
      "Введите номер новой полки: 10\n",
      "{'1': ['2207 876234', '11-2'], '2': ['10006'], '3': [], '10': []}\n"
     ]
    }
   ],
   "source": [
    "documents = [\n",
    "{'type': 'passport', 'number': '2207 876234', 'name': 'Василий Гупкин'},\n",
    "{'type': 'invoice', 'number': '11-2', 'name': 'Геннадий Покемонов'},\n",
    "{'type': 'insurance', 'number': '10006', 'name': 'Аристарх Павлов'}\n",
    "]\n",
    "directories = {\n",
    "'1': ['2207 876234', '11-2'],\n",
    "'2': ['10006'],\n",
    "'3': []\n",
    "}\n",
    "def add_s():\n",
    "    number = input(\"Введите номер новой полки: \")\n",
    "    directories[number] = []\n",
    "add_s()\n",
    "print(directories)"
   ]
  },
  {
   "cell_type": "markdown",
   "metadata": {},
   "source": [
    "Пункт 5. Пользователь по команде “ds” может удалить существующую полку из данных (только если она пустая)"
   ]
  },
  {
   "cell_type": "code",
   "execution_count": 1,
   "metadata": {},
   "outputs": [
    {
     "name": "stdout",
     "output_type": "stream",
     "text": [
      "Введите номер документа, который хотите удалить: 2\n",
      "Текущий перечень полок1\n",
      "{'1': ['2207 876234', '11-2'], '3': []}\n"
     ]
    }
   ],
   "source": [
    "documents = [\n",
    "{'type': 'passport', 'number': '2207 876234', 'name': 'Василий Гупкин'},\n",
    "{'type': 'invoice', 'number': '11-2', 'name': 'Геннадий Покемонов'},\n",
    "{'type': 'insurance', 'number': '10006', 'name': 'Аристарх Павлов'}\n",
    "]\n",
    "directories = {\n",
    "'1': ['2207 876234', '11-2'],\n",
    "'2': ['10006'],\n",
    "'3': []\n",
    "}\n",
    "\n",
    "def ds():\n",
    "    user_input = input(\"Введите номер документа, который хотите удалить: \")\n",
    "    for value in directories.values():\n",
    "        if user_input in directories:\n",
    "            user_input == 0\n",
    "            value = directories.get(user_input)\n",
    "            del(directories[user_input])\n",
    "            return \"Текущий перечень полок1\"\n",
    "        elif user_input not in directories:\n",
    "            return \"Такой полки нет\"   \n",
    "            \n",
    "print(ds())\n",
    "print(directories)\n",
    "\n"
   ]
  }
 ],
 "metadata": {
  "kernelspec": {
   "display_name": "Python 3",
   "language": "python",
   "name": "python3"
  },
  "language_info": {
   "codemirror_mode": {
    "name": "ipython",
    "version": 3
   },
   "file_extension": ".py",
   "mimetype": "text/x-python",
   "name": "python",
   "nbconvert_exporter": "python",
   "pygments_lexer": "ipython3",
   "version": "3.7.6"
  }
 },
 "nbformat": 4,
 "nbformat_minor": 4
}
